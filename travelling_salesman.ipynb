{
 "cells": [
  {
   "cell_type": "code",
   "execution_count": 1,
   "metadata": {
    "colab": {},
    "colab_type": "code",
    "id": "LA5bapfFBMEr"
   },
   "outputs": [],
   "source": [
    "import numpy as np \n",
    "import pandas as pd\n",
    "import matplotlib.pyplot as plt\n",
    "\n",
    "from matplotlib import animation, rc\n",
    "from IPython.display import HTML"
   ]
  },
  {
   "cell_type": "markdown",
   "metadata": {
    "colab_type": "text",
    "id": "ThEsaOr7NcRr"
   },
   "source": [
    "## Data preparation"
   ]
  },
  {
   "cell_type": "code",
   "execution_count": 2,
   "metadata": {
    "colab": {
     "base_uri": "https://localhost:8080/",
     "height": 519
    },
    "colab_type": "code",
    "id": "Um9cacTcBgEH",
    "outputId": "1a075e27-7051-4350-ff4c-fc4c17544569"
   },
   "outputs": [
    {
     "data": {
      "text/html": [
       "<div>\n",
       "<style scoped>\n",
       "    .dataframe tbody tr th:only-of-type {\n",
       "        vertical-align: middle;\n",
       "    }\n",
       "\n",
       "    .dataframe tbody tr th {\n",
       "        vertical-align: top;\n",
       "    }\n",
       "\n",
       "    .dataframe thead th {\n",
       "        text-align: right;\n",
       "    }\n",
       "</style>\n",
       "<table border=\"1\" class=\"dataframe\">\n",
       "  <thead>\n",
       "    <tr style=\"text-align: right;\">\n",
       "      <th></th>\n",
       "      <th>address</th>\n",
       "      <th>postal_code</th>\n",
       "      <th>country</th>\n",
       "      <th>federal_district</th>\n",
       "      <th>region_type</th>\n",
       "      <th>region</th>\n",
       "      <th>area_type</th>\n",
       "      <th>area</th>\n",
       "      <th>city_type</th>\n",
       "      <th>city</th>\n",
       "      <th>...</th>\n",
       "      <th>fias_level</th>\n",
       "      <th>capital_marker</th>\n",
       "      <th>okato</th>\n",
       "      <th>oktmo</th>\n",
       "      <th>tax_office</th>\n",
       "      <th>timezone</th>\n",
       "      <th>geo_lat</th>\n",
       "      <th>geo_lon</th>\n",
       "      <th>population</th>\n",
       "      <th>foundation_year</th>\n",
       "    </tr>\n",
       "  </thead>\n",
       "  <tbody>\n",
       "    <tr>\n",
       "      <th>0</th>\n",
       "      <td>Респ Адыгея, г Адыгейск</td>\n",
       "      <td>385200.0</td>\n",
       "      <td>Россия</td>\n",
       "      <td>Южный</td>\n",
       "      <td>Респ</td>\n",
       "      <td>Адыгея</td>\n",
       "      <td>NaN</td>\n",
       "      <td>NaN</td>\n",
       "      <td>г</td>\n",
       "      <td>Адыгейск</td>\n",
       "      <td>...</td>\n",
       "      <td>4</td>\n",
       "      <td>0</td>\n",
       "      <td>79403000000</td>\n",
       "      <td>79703000001</td>\n",
       "      <td>107</td>\n",
       "      <td>UTC+3</td>\n",
       "      <td>44.878414</td>\n",
       "      <td>39.190289</td>\n",
       "      <td>12689</td>\n",
       "      <td>1969</td>\n",
       "    </tr>\n",
       "    <tr>\n",
       "      <th>1</th>\n",
       "      <td>г Майкоп</td>\n",
       "      <td>385000.0</td>\n",
       "      <td>Россия</td>\n",
       "      <td>Южный</td>\n",
       "      <td>Респ</td>\n",
       "      <td>Адыгея</td>\n",
       "      <td>NaN</td>\n",
       "      <td>NaN</td>\n",
       "      <td>г</td>\n",
       "      <td>Майкоп</td>\n",
       "      <td>...</td>\n",
       "      <td>4</td>\n",
       "      <td>2</td>\n",
       "      <td>79401000000</td>\n",
       "      <td>79701000001</td>\n",
       "      <td>105</td>\n",
       "      <td>UTC+3</td>\n",
       "      <td>44.609827</td>\n",
       "      <td>40.100661</td>\n",
       "      <td>144055</td>\n",
       "      <td>1857</td>\n",
       "    </tr>\n",
       "    <tr>\n",
       "      <th>2</th>\n",
       "      <td>г Горно-Алтайск</td>\n",
       "      <td>649000.0</td>\n",
       "      <td>Россия</td>\n",
       "      <td>Сибирский</td>\n",
       "      <td>Респ</td>\n",
       "      <td>Алтай</td>\n",
       "      <td>NaN</td>\n",
       "      <td>NaN</td>\n",
       "      <td>г</td>\n",
       "      <td>Горно-Алтайск</td>\n",
       "      <td>...</td>\n",
       "      <td>4</td>\n",
       "      <td>2</td>\n",
       "      <td>84401000000</td>\n",
       "      <td>84701000</td>\n",
       "      <td>400</td>\n",
       "      <td>UTC+7</td>\n",
       "      <td>51.958103</td>\n",
       "      <td>85.960324</td>\n",
       "      <td>62861</td>\n",
       "      <td>1830</td>\n",
       "    </tr>\n",
       "    <tr>\n",
       "      <th>3</th>\n",
       "      <td>Алтайский край, г Алейск</td>\n",
       "      <td>658125.0</td>\n",
       "      <td>Россия</td>\n",
       "      <td>Сибирский</td>\n",
       "      <td>край</td>\n",
       "      <td>Алтайский</td>\n",
       "      <td>NaN</td>\n",
       "      <td>NaN</td>\n",
       "      <td>г</td>\n",
       "      <td>Алейск</td>\n",
       "      <td>...</td>\n",
       "      <td>4</td>\n",
       "      <td>0</td>\n",
       "      <td>1403000000</td>\n",
       "      <td>1703000</td>\n",
       "      <td>2201</td>\n",
       "      <td>UTC+7</td>\n",
       "      <td>52.492251</td>\n",
       "      <td>82.779361</td>\n",
       "      <td>28528</td>\n",
       "      <td>1913</td>\n",
       "    </tr>\n",
       "    <tr>\n",
       "      <th>4</th>\n",
       "      <td>г Барнаул</td>\n",
       "      <td>656000.0</td>\n",
       "      <td>Россия</td>\n",
       "      <td>Сибирский</td>\n",
       "      <td>край</td>\n",
       "      <td>Алтайский</td>\n",
       "      <td>NaN</td>\n",
       "      <td>NaN</td>\n",
       "      <td>г</td>\n",
       "      <td>Барнаул</td>\n",
       "      <td>...</td>\n",
       "      <td>4</td>\n",
       "      <td>2</td>\n",
       "      <td>1401000000</td>\n",
       "      <td>1701000</td>\n",
       "      <td>2200</td>\n",
       "      <td>UTC+7</td>\n",
       "      <td>53.347997</td>\n",
       "      <td>83.779806</td>\n",
       "      <td>635585</td>\n",
       "      <td>1730</td>\n",
       "    </tr>\n",
       "  </tbody>\n",
       "</table>\n",
       "<p>5 rows × 24 columns</p>\n",
       "</div>"
      ],
      "text/plain": [
       "                    address  postal_code country federal_district region_type  \\\n",
       "0   Респ Адыгея, г Адыгейск     385200.0  Россия            Южный        Респ   \n",
       "1                  г Майкоп     385000.0  Россия            Южный        Респ   \n",
       "2           г Горно-Алтайск     649000.0  Россия        Сибирский        Респ   \n",
       "3  Алтайский край, г Алейск     658125.0  Россия        Сибирский        край   \n",
       "4                 г Барнаул     656000.0  Россия        Сибирский        край   \n",
       "\n",
       "      region area_type area city_type           city  ... fias_level  \\\n",
       "0     Адыгея       NaN  NaN         г       Адыгейск  ...          4   \n",
       "1     Адыгея       NaN  NaN         г         Майкоп  ...          4   \n",
       "2      Алтай       NaN  NaN         г  Горно-Алтайск  ...          4   \n",
       "3  Алтайский       NaN  NaN         г         Алейск  ...          4   \n",
       "4  Алтайский       NaN  NaN         г        Барнаул  ...          4   \n",
       "\n",
       "  capital_marker        okato        oktmo  tax_office  timezone    geo_lat  \\\n",
       "0              0  79403000000  79703000001         107     UTC+3  44.878414   \n",
       "1              2  79401000000  79701000001         105     UTC+3  44.609827   \n",
       "2              2  84401000000     84701000         400     UTC+7  51.958103   \n",
       "3              0   1403000000      1703000        2201     UTC+7  52.492251   \n",
       "4              2   1401000000      1701000        2200     UTC+7  53.347997   \n",
       "\n",
       "     geo_lon  population foundation_year  \n",
       "0  39.190289       12689            1969  \n",
       "1  40.100661      144055            1857  \n",
       "2  85.960324       62861            1830  \n",
       "3  82.779361       28528            1913  \n",
       "4  83.779806      635585            1730  \n",
       "\n",
       "[5 rows x 24 columns]"
      ]
     },
     "execution_count": 2,
     "metadata": {},
     "output_type": "execute_result"
    }
   ],
   "source": [
    "cities = pd.read_csv('data/city.csv')\n",
    "cities.head()"
   ]
  },
  {
   "cell_type": "code",
   "execution_count": 3,
   "metadata": {
    "colab": {
     "base_uri": "https://localhost:8080/",
     "height": 204
    },
    "colab_type": "code",
    "id": "sEeneSarDHRJ",
    "outputId": "ea93646d-4b14-4fd4-8802-9d31e58cab17"
   },
   "outputs": [
    {
     "data": {
      "text/html": [
       "<div>\n",
       "<style scoped>\n",
       "    .dataframe tbody tr th:only-of-type {\n",
       "        vertical-align: middle;\n",
       "    }\n",
       "\n",
       "    .dataframe tbody tr th {\n",
       "        vertical-align: top;\n",
       "    }\n",
       "\n",
       "    .dataframe thead th {\n",
       "        text-align: right;\n",
       "    }\n",
       "</style>\n",
       "<table border=\"1\" class=\"dataframe\">\n",
       "  <thead>\n",
       "    <tr style=\"text-align: right;\">\n",
       "      <th></th>\n",
       "      <th>address</th>\n",
       "      <th>geo_lat</th>\n",
       "      <th>geo_lon</th>\n",
       "      <th>population</th>\n",
       "    </tr>\n",
       "  </thead>\n",
       "  <tbody>\n",
       "    <tr>\n",
       "      <th>0</th>\n",
       "      <td>г Москва</td>\n",
       "      <td>55.754047</td>\n",
       "      <td>37.620405</td>\n",
       "      <td>11514330</td>\n",
       "    </tr>\n",
       "    <tr>\n",
       "      <th>1</th>\n",
       "      <td>г Санкт-Петербург</td>\n",
       "      <td>59.939131</td>\n",
       "      <td>30.315900</td>\n",
       "      <td>4848742</td>\n",
       "    </tr>\n",
       "    <tr>\n",
       "      <th>2</th>\n",
       "      <td>г Новосибирск</td>\n",
       "      <td>55.028191</td>\n",
       "      <td>82.921149</td>\n",
       "      <td>1498921</td>\n",
       "    </tr>\n",
       "    <tr>\n",
       "      <th>3</th>\n",
       "      <td>г Екатеринбург</td>\n",
       "      <td>56.838522</td>\n",
       "      <td>60.605491</td>\n",
       "      <td>1377738</td>\n",
       "    </tr>\n",
       "    <tr>\n",
       "      <th>4</th>\n",
       "      <td>г Нижний Новгород</td>\n",
       "      <td>56.324063</td>\n",
       "      <td>44.005391</td>\n",
       "      <td>1250615</td>\n",
       "    </tr>\n",
       "  </tbody>\n",
       "</table>\n",
       "</div>"
      ],
      "text/plain": [
       "             address    geo_lat    geo_lon  population\n",
       "0           г Москва  55.754047  37.620405    11514330\n",
       "1  г Санкт-Петербург  59.939131  30.315900     4848742\n",
       "2      г Новосибирск  55.028191  82.921149     1498921\n",
       "3     г Екатеринбург  56.838522  60.605491     1377738\n",
       "4  г Нижний Новгород  56.324063  44.005391     1250615"
      ]
     },
     "execution_count": 3,
     "metadata": {},
     "output_type": "execute_result"
    }
   ],
   "source": [
    "def str2int(population: str):\n",
    "    if population.endswith(']'):\n",
    "        return int(population[:-3])\n",
    "    else:\n",
    "        return int(population)\n",
    "\n",
    "cities.loc[:, 'population'] = list(map(str2int, cities.population))\n",
    "cities = cities[['address', 'geo_lat', 'geo_lon', 'population']]\n",
    "\n",
    "cities30 = cities.sort_values(by='population', ascending=False).head(30)\n",
    "cities30.reset_index(inplace=True, drop=True)\n",
    "cities30.head()"
   ]
  },
  {
   "cell_type": "code",
   "execution_count": 4,
   "metadata": {
    "colab": {},
    "colab_type": "code",
    "id": "zU_KDTHmFtJG"
   },
   "outputs": [],
   "source": [
    "import geopy.distance\n",
    "\n",
    "def get_distance(coords1: tuple, coords2: tuple):\n",
    "    return geopy.distance.geodesic(coords1, coords2).km"
   ]
  },
  {
   "cell_type": "code",
   "execution_count": 5,
   "metadata": {
    "colab": {
     "base_uri": "https://localhost:8080/",
     "height": 51
    },
    "colab_type": "code",
    "id": "hpLHf02oF9Zf",
    "outputId": "82d2c522-e41b-4d03-a39c-3a801d19d030"
   },
   "outputs": [
    {
     "name": "stdout",
     "output_type": "stream",
     "text": [
      "[55.7540471 37.620405 ] [59.9391313 30.3159004]\n",
      "636.0231024849263\n"
     ]
    }
   ],
   "source": [
    "f_dist, s_dist = cities30[['geo_lat', 'geo_lon']].iloc[:2].values\n",
    "print(f_dist, s_dist)\n",
    "print(get_distance(f_dist, s_dist))"
   ]
  },
  {
   "cell_type": "markdown",
   "metadata": {
    "colab_type": "text",
    "id": "Nl0hrg2JNZdn"
   },
   "source": [
    "## Optimization"
   ]
  },
  {
   "cell_type": "code",
   "execution_count": 6,
   "metadata": {
    "colab": {
     "base_uri": "https://localhost:8080/",
     "height": 204
    },
    "colab_type": "code",
    "id": "lhDJvonvRKHk",
    "outputId": "2e03de06-7551-4406-8d80-98c42a53cd0e"
   },
   "outputs": [
    {
     "data": {
      "text/html": [
       "<div>\n",
       "<style scoped>\n",
       "    .dataframe tbody tr th:only-of-type {\n",
       "        vertical-align: middle;\n",
       "    }\n",
       "\n",
       "    .dataframe tbody tr th {\n",
       "        vertical-align: top;\n",
       "    }\n",
       "\n",
       "    .dataframe thead th {\n",
       "        text-align: right;\n",
       "    }\n",
       "</style>\n",
       "<table border=\"1\" class=\"dataframe\">\n",
       "  <thead>\n",
       "    <tr style=\"text-align: right;\">\n",
       "      <th></th>\n",
       "      <th>address</th>\n",
       "      <th>geo_lat</th>\n",
       "      <th>geo_lon</th>\n",
       "      <th>population</th>\n",
       "    </tr>\n",
       "  </thead>\n",
       "  <tbody>\n",
       "    <tr>\n",
       "      <th>0</th>\n",
       "      <td>г Москва</td>\n",
       "      <td>55.754047</td>\n",
       "      <td>37.620405</td>\n",
       "      <td>11514330</td>\n",
       "    </tr>\n",
       "    <tr>\n",
       "      <th>1</th>\n",
       "      <td>г Санкт-Петербург</td>\n",
       "      <td>59.939131</td>\n",
       "      <td>30.315900</td>\n",
       "      <td>4848742</td>\n",
       "    </tr>\n",
       "    <tr>\n",
       "      <th>2</th>\n",
       "      <td>г Новосибирск</td>\n",
       "      <td>55.028191</td>\n",
       "      <td>82.921149</td>\n",
       "      <td>1498921</td>\n",
       "    </tr>\n",
       "    <tr>\n",
       "      <th>3</th>\n",
       "      <td>г Екатеринбург</td>\n",
       "      <td>56.838522</td>\n",
       "      <td>60.605491</td>\n",
       "      <td>1377738</td>\n",
       "    </tr>\n",
       "    <tr>\n",
       "      <th>4</th>\n",
       "      <td>г Нижний Новгород</td>\n",
       "      <td>56.324063</td>\n",
       "      <td>44.005391</td>\n",
       "      <td>1250615</td>\n",
       "    </tr>\n",
       "  </tbody>\n",
       "</table>\n",
       "</div>"
      ],
      "text/plain": [
       "             address    geo_lat    geo_lon  population\n",
       "0           г Москва  55.754047  37.620405    11514330\n",
       "1  г Санкт-Петербург  59.939131  30.315900     4848742\n",
       "2      г Новосибирск  55.028191  82.921149     1498921\n",
       "3     г Екатеринбург  56.838522  60.605491     1377738\n",
       "4  г Нижний Новгород  56.324063  44.005391     1250615"
      ]
     },
     "execution_count": 6,
     "metadata": {},
     "output_type": "execute_result"
    }
   ],
   "source": [
    "cities30.head()"
   ]
  },
  {
   "cell_type": "code",
   "execution_count": 7,
   "metadata": {
    "colab": {
     "base_uri": "https://localhost:8080/",
     "height": 1000
    },
    "colab_type": "code",
    "id": "ZzyLmXTaMIgi",
    "outputId": "bf16fcf2-f390-4bda-d329-d1e1b8d1d69f"
   },
   "outputs": [],
   "source": [
    "def compute_path_distance(data: pd.DataFrame, path: np.ndarray) -> float:\n",
    "    total_dist = 0\n",
    "    for i in range(1, len(path)):\n",
    "        prev_coords = data[['geo_lat', 'geo_lon']].iloc[path[i - 1]].values\n",
    "        cur_coords = data[['geo_lat', 'geo_lon']].iloc[path[i]].values\n",
    "        total_dist += np.abs(get_distance(prev_coords, cur_coords))\n",
    "    return total_dist\n",
    "\n",
    "def acceptance_prob(old_dist: float, new_dist: float, temp: float) -> float:\n",
    "    return 1.0 if new_dist < old_dist else np.exp((old_dist - new_dist) / temp)\n",
    "\n",
    "def optimize(data: pd.DataFrame, annealing_rate=0.95) -> (float, np.ndarray):\n",
    "    t = 0\n",
    "    temp = 10000\n",
    "    annealing_rate = annealing_rate\n",
    "    annealing_schedule = 7\n",
    "    city_idx_range = list(range(30))\n",
    "\n",
    "    cur_path = np.random.choice(data.index.values, size=data.index.size, \n",
    "                                 replace=False)\n",
    "    best_path = cur_path.copy()\n",
    "    best_dist = compute_path_distance(data, best_path)\n",
    "\n",
    "    path_evolutions = []\n",
    "    while (temp > 1):\n",
    "        # select cities to swap\n",
    "        from_id, to_id = np.random.choice(city_idx_range, size=2, replace=False)\n",
    "        # make swap and create new path\n",
    "        new_path = best_path.copy()\n",
    "        new_path[from_id], new_path[to_id] = new_path[to_id], new_path[from_id]\n",
    "        \n",
    "        new_dist = compute_path_distance(data, new_path)\n",
    "        cur_dist = compute_path_distance(data, cur_path)\n",
    "        \n",
    "        ap = acceptance_prob(cur_dist, new_dist, temp)\n",
    "        if ap > np.random.rand():\n",
    "            cur_path = new_path\n",
    "            cur_dist = new_dist\n",
    "\n",
    "        if cur_dist < best_dist:\n",
    "            best_path = cur_path.copy()\n",
    "            best_dist = cur_dist\n",
    "\n",
    "        if t > 0 and t % annealing_schedule == 0:\n",
    "            # temperature annealing and distance reporting\n",
    "            print(f'Temperature = {temp} | Best distance = {best_dist}')\n",
    "            temp *= annealing_rate\n",
    "            path_evolutions.append(best_path)\n",
    "\n",
    "        t += 1\n",
    "    \n",
    "    print(f'Final Temperature = {temp} | Final Best distance = {best_dist}')\n",
    "    return best_dist, best_path, path_evolutions"
   ]
  },
  {
   "cell_type": "markdown",
   "metadata": {},
   "source": [
    "### Slow cooling"
   ]
  },
  {
   "cell_type": "code",
   "execution_count": 8,
   "metadata": {},
   "outputs": [
    {
     "name": "stdout",
     "output_type": "stream",
     "text": [
      "Temperature = 10000 | Best distance = 52364.022441363755\n",
      "Temperature = 9500.0 | Best distance = 51907.76186131735\n",
      "Temperature = 9025.0 | Best distance = 49039.48506643357\n",
      "Temperature = 8573.75 | Best distance = 42922.12103248526\n",
      "Temperature = 8145.0625 | Best distance = 42538.81404835927\n",
      "Temperature = 7737.809375 | Best distance = 40940.30856577412\n",
      "Temperature = 7350.918906249999 | Best distance = 40499.69135977706\n",
      "Temperature = 6983.372960937499 | Best distance = 40499.69135977706\n",
      "Temperature = 6634.204312890623 | Best distance = 40457.20608522049\n",
      "Temperature = 6302.494097246092 | Best distance = 38832.50906941596\n",
      "Temperature = 5987.369392383787 | Best distance = 37617.01722025796\n",
      "Temperature = 5688.000922764598 | Best distance = 37319.08885554996\n",
      "Temperature = 5403.600876626368 | Best distance = 36552.80627934836\n",
      "Temperature = 5133.420832795049 | Best distance = 36042.3188171772\n",
      "Temperature = 4876.749791155296 | Best distance = 36042.3188171772\n",
      "Temperature = 4632.912301597531 | Best distance = 35149.88570840452\n",
      "Temperature = 4401.266686517654 | Best distance = 34977.35534723268\n",
      "Temperature = 4181.203352191771 | Best distance = 34896.59696409201\n",
      "Temperature = 3972.143184582182 | Best distance = 34896.59696409201\n",
      "Temperature = 3773.536025353073 | Best distance = 34689.41020961846\n",
      "Temperature = 3584.859224085419 | Best distance = 34689.41020961846\n",
      "Temperature = 3405.616262881148 | Best distance = 34689.41020961846\n",
      "Temperature = 3235.3354497370906 | Best distance = 34689.41020961846\n",
      "Temperature = 3073.568677250236 | Best distance = 34535.360387991845\n",
      "Temperature = 2919.890243387724 | Best distance = 33918.144094079544\n",
      "Temperature = 2773.8957312183375 | Best distance = 33918.144094079544\n",
      "Temperature = 2635.2009446574207 | Best distance = 33666.51250732422\n",
      "Temperature = 2503.4408974245493 | Best distance = 32671.24228106708\n",
      "Temperature = 2378.2688525533217 | Best distance = 32650.31205100228\n",
      "Temperature = 2259.3554099256557 | Best distance = 32650.31205100228\n",
      "Temperature = 2146.387639429373 | Best distance = 32650.31205100228\n",
      "Temperature = 2039.068257457904 | Best distance = 32650.31205100228\n",
      "Temperature = 1937.1148445850088 | Best distance = 32650.31205100228\n",
      "Temperature = 1840.2591023557582 | Best distance = 32650.31205100228\n",
      "Temperature = 1748.2461472379703 | Best distance = 32650.31205100228\n",
      "Temperature = 1660.8338398760716 | Best distance = 32650.31205100228\n",
      "Temperature = 1577.792147882268 | Best distance = 32650.31205100228\n",
      "Temperature = 1498.9025404881545 | Best distance = 32650.31205100228\n",
      "Temperature = 1423.9574134637467 | Best distance = 32650.31205100228\n",
      "Temperature = 1352.7595427905592 | Best distance = 31910.032904620875\n",
      "Temperature = 1285.1215656510312 | Best distance = 31910.032904620875\n",
      "Temperature = 1220.8654873684795 | Best distance = 31836.224034779338\n",
      "Temperature = 1159.8222130000554 | Best distance = 31836.224034779338\n",
      "Temperature = 1101.8311023500526 | Best distance = 31836.224034779338\n",
      "Temperature = 1046.73954723255 | Best distance = 31813.100032618855\n",
      "Temperature = 994.4025698709224 | Best distance = 31813.100032618855\n",
      "Temperature = 944.6824413773762 | Best distance = 31813.100032618855\n",
      "Temperature = 897.4483193085074 | Best distance = 31813.100032618855\n",
      "Temperature = 852.575903343082 | Best distance = 31813.100032618855\n",
      "Temperature = 809.9471081759278 | Best distance = 31813.100032618855\n",
      "Temperature = 769.4497527671314 | Best distance = 31813.100032618855\n",
      "Temperature = 730.9772651287748 | Best distance = 31813.100032618855\n",
      "Temperature = 694.428401872336 | Best distance = 31813.100032618855\n",
      "Temperature = 659.7069817787192 | Best distance = 31813.100032618855\n",
      "Temperature = 626.7216326897832 | Best distance = 31813.100032618855\n",
      "Temperature = 595.385551055294 | Best distance = 31813.100032618855\n",
      "Temperature = 565.6162735025292 | Best distance = 31768.98918392906\n",
      "Temperature = 537.3354598274027 | Best distance = 31750.746283684955\n",
      "Temperature = 510.46868683603253 | Best distance = 31709.44817592049\n",
      "Temperature = 484.9452524942309 | Best distance = 31709.44817592049\n",
      "Temperature = 460.69798986951935 | Best distance = 31626.462538471093\n",
      "Temperature = 437.6630903760434 | Best distance = 31363.97208394732\n",
      "Temperature = 415.7799358572412 | Best distance = 31363.97208394732\n",
      "Temperature = 394.9909390643791 | Best distance = 31056.896070076244\n",
      "Temperature = 375.24139211116017 | Best distance = 31056.896070076244\n",
      "Temperature = 356.47932250560217 | Best distance = 30714.339421583983\n",
      "Temperature = 338.655356380322 | Best distance = 30714.339421583983\n",
      "Temperature = 321.7225885613059 | Best distance = 30376.820954784485\n",
      "Temperature = 305.6364591332406 | Best distance = 30364.29441813529\n",
      "Temperature = 290.35463617657854 | Best distance = 30317.957845985115\n",
      "Temperature = 275.8369043677496 | Best distance = 30317.957845985115\n",
      "Temperature = 262.0450591493621 | Best distance = 29242.379090207516\n",
      "Temperature = 248.94280619189396 | Best distance = 29242.379090207516\n",
      "Temperature = 236.49566588229925 | Best distance = 29242.379090207516\n",
      "Temperature = 224.67088258818427 | Best distance = 29213.136239302108\n",
      "Temperature = 213.43733845877506 | Best distance = 29213.136239302108\n",
      "Temperature = 202.7654715358363 | Best distance = 29200.85947601686\n",
      "Temperature = 192.62719795904448 | Best distance = 28792.37789573462\n",
      "Temperature = 182.99583806109226 | Best distance = 28537.52475691105\n",
      "Temperature = 173.84604615803764 | Best distance = 28537.52475691105\n",
      "Temperature = 165.15374385013575 | Best distance = 28537.52475691105\n",
      "Temperature = 156.89605665762895 | Best distance = 28537.52475691105\n",
      "Temperature = 149.0512538247475 | Best distance = 28155.76326717856\n",
      "Temperature = 141.59869113351013 | Best distance = 28155.76326717856\n",
      "Temperature = 134.51875657683462 | Best distance = 28155.76326717856\n",
      "Temperature = 127.79281874799288 | Best distance = 28155.76326717856\n",
      "Temperature = 121.40317781059323 | Best distance = 28058.8756924036\n",
      "Temperature = 115.33301892006357 | Best distance = 27765.97229655384\n",
      "Temperature = 109.56636797406038 | Best distance = 27124.89602977311\n",
      "Temperature = 104.08804957535736 | Best distance = 26994.9608272989\n",
      "Temperature = 98.88364709658948 | Best distance = 26994.9608272989\n",
      "Temperature = 93.93946474176 | Best distance = 26563.539645924277\n",
      "Temperature = 89.242491504672 | Best distance = 26563.539645924277\n",
      "Temperature = 84.7803669294384 | Best distance = 25814.781216646606\n",
      "Temperature = 80.54134858296648 | Best distance = 25814.781216646606\n",
      "Temperature = 76.51428115381815 | Best distance = 25606.72058742344\n",
      "Temperature = 72.68856709612723 | Best distance = 25606.72058742344\n",
      "Temperature = 69.05413874132087 | Best distance = 25606.72058742344\n",
      "Temperature = 65.60143180425483 | Best distance = 25606.72058742344\n",
      "Temperature = 62.32136021404209 | Best distance = 25606.72058742344\n",
      "Temperature = 59.20529220333998 | Best distance = 25606.72058742344\n",
      "Temperature = 56.24502759317298 | Best distance = 25026.52311367042\n",
      "Temperature = 53.43277621351432 | Best distance = 25026.52311367042\n",
      "Temperature = 50.76113740283861 | Best distance = 24822.90535835009\n",
      "Temperature = 48.22308053269668 | Best distance = 24822.90535835009\n",
      "Temperature = 45.811926506061845 | Best distance = 24822.90535835009\n",
      "Temperature = 43.52133018075875 | Best distance = 24822.90535835009\n",
      "Temperature = 41.345263671720815 | Best distance = 23223.091871454246\n",
      "Temperature = 39.27800048813477 | Best distance = 23223.091871454246\n",
      "Temperature = 37.31410046372803 | Best distance = 23223.091871454246\n",
      "Temperature = 35.44839544054163 | Best distance = 23223.091871454246\n",
      "Temperature = 33.675975668514546 | Best distance = 23223.091871454246\n",
      "Temperature = 31.992176885088817 | Best distance = 23223.091871454246\n",
      "Temperature = 30.392568040834377 | Best distance = 23223.091871454246\n",
      "Temperature = 28.872939638792655 | Best distance = 23223.091871454246\n",
      "Temperature = 27.429292656853022 | Best distance = 23223.091871454246\n",
      "Temperature = 26.05782802401037 | Best distance = 23223.091871454246\n",
      "Temperature = 24.75493662280985 | Best distance = 23223.091871454246\n",
      "Temperature = 23.517189791669356 | Best distance = 23223.091871454246\n",
      "Temperature = 22.341330302085886 | Best distance = 23223.091871454246\n",
      "Temperature = 21.22426378698159 | Best distance = 23223.091871454246\n"
     ]
    },
    {
     "name": "stdout",
     "output_type": "stream",
     "text": [
      "Temperature = 20.163050597632513 | Best distance = 22778.089655529217\n",
      "Temperature = 19.154898067750885 | Best distance = 22778.089655529217\n",
      "Temperature = 18.19715316436334 | Best distance = 22778.089655529217\n",
      "Temperature = 17.28729550614517 | Best distance = 22494.368154690517\n",
      "Temperature = 16.422930730837912 | Best distance = 22494.368154690517\n",
      "Temperature = 15.601784194296016 | Best distance = 22470.236881583132\n",
      "Temperature = 14.821694984581214 | Best distance = 22470.236881583132\n",
      "Temperature = 14.080610235352152 | Best distance = 22470.236881583132\n",
      "Temperature = 13.376579723584543 | Best distance = 22470.236881583132\n",
      "Temperature = 12.707750737405314 | Best distance = 22470.236881583132\n",
      "Temperature = 12.072363200535047 | Best distance = 22470.236881583132\n",
      "Temperature = 11.468745040508294 | Best distance = 22470.236881583132\n",
      "Temperature = 10.895307788482878 | Best distance = 22470.236881583132\n",
      "Temperature = 10.350542399058734 | Best distance = 22470.236881583132\n",
      "Temperature = 9.833015279105796 | Best distance = 22470.236881583132\n",
      "Temperature = 9.341364515150506 | Best distance = 22470.236881583132\n",
      "Temperature = 8.87429628939298 | Best distance = 22470.236881583132\n",
      "Temperature = 8.430581474923331 | Best distance = 22273.670540675274\n",
      "Temperature = 8.009052401177165 | Best distance = 22273.670540675274\n",
      "Temperature = 7.608599781118306 | Best distance = 22273.670540675274\n",
      "Temperature = 7.22816979206239 | Best distance = 22273.670540675274\n",
      "Temperature = 6.86676130245927 | Best distance = 21560.670905574174\n",
      "Temperature = 6.523423237336306 | Best distance = 21560.670905574174\n",
      "Temperature = 6.197252075469491 | Best distance = 21043.981436397\n",
      "Temperature = 5.887389471696016 | Best distance = 21043.981436397\n",
      "Temperature = 5.593019998111215 | Best distance = 21043.981436397\n",
      "Temperature = 5.313368998205654 | Best distance = 21043.981436397\n",
      "Temperature = 5.047700548295371 | Best distance = 21043.981436397\n",
      "Temperature = 4.795315520880602 | Best distance = 21043.981436397\n",
      "Temperature = 4.555549744836572 | Best distance = 21043.981436397\n",
      "Temperature = 4.327772257594743 | Best distance = 21043.981436397\n",
      "Temperature = 4.111383644715006 | Best distance = 21043.981436397\n",
      "Temperature = 3.9058144624792552 | Best distance = 21043.981436397\n",
      "Temperature = 3.7105237393552923 | Best distance = 21043.981436397\n",
      "Temperature = 3.5249975523875277 | Best distance = 21043.981436397\n",
      "Temperature = 3.348747674768151 | Best distance = 21043.981436397\n",
      "Temperature = 3.1813102910297433 | Best distance = 21043.981436397\n",
      "Temperature = 3.022244776478256 | Best distance = 19370.559818876143\n",
      "Temperature = 2.871132537654343 | Best distance = 19370.559818876143\n",
      "Temperature = 2.727575910771626 | Best distance = 19370.559818876143\n",
      "Temperature = 2.5911971152330446 | Best distance = 19370.559818876143\n",
      "Temperature = 2.4616372594713924 | Best distance = 19370.559818876143\n",
      "Temperature = 2.3385553964978225 | Best distance = 19370.559818876143\n",
      "Temperature = 2.221627626672931 | Best distance = 19370.559818876143\n",
      "Temperature = 2.1105462453392843 | Best distance = 19370.559818876143\n",
      "Temperature = 2.00501893307232 | Best distance = 19370.559818876143\n",
      "Temperature = 1.904767986418704 | Best distance = 19370.559818876143\n",
      "Temperature = 1.8095295870977686 | Best distance = 19370.559818876143\n",
      "Temperature = 1.7190531077428801 | Best distance = 19370.559818876143\n",
      "Temperature = 1.633100452355736 | Best distance = 19370.559818876143\n",
      "Temperature = 1.5514454297379492 | Best distance = 19370.559818876143\n",
      "Temperature = 1.4738731582510516 | Best distance = 19370.559818876143\n",
      "Temperature = 1.400179500338499 | Best distance = 19370.559818876143\n",
      "Temperature = 1.3301705253215739 | Best distance = 19370.559818876143\n",
      "Temperature = 1.2636619990554951 | Best distance = 19370.559818876143\n",
      "Temperature = 1.2004788991027204 | Best distance = 19370.559818876143\n",
      "Temperature = 1.1404549541475844 | Best distance = 19370.559818876143\n",
      "Temperature = 1.083432206440205 | Best distance = 19370.559818876143\n",
      "Temperature = 1.0292605961181949 | Best distance = 19370.559818876143\n",
      "Final Temperature = 0.9777975663122851 | Final Best distance = 19370.559818876143\n",
      "CPU times: user 2min 6s, sys: 1.63 s, total: 2min 8s\n",
      "Wall time: 2min 9s\n"
     ]
    }
   ],
   "source": [
    "%%time\n",
    "best_dist, best_path, path_evolutions = optimize(cities30, 0.95)"
   ]
  },
  {
   "cell_type": "code",
   "execution_count": 9,
   "metadata": {},
   "outputs": [
    {
     "name": "stdout",
     "output_type": "stream",
     "text": [
      "Best distance: 19370.559818876143\n",
      "Best path (encoded) [ 1  0 22 19 24  7 18 29  2 28 23 21 26 13  8  3 12 10 27  6  5  4 20 17\n",
      " 11 25 16  9 14 15]\n",
      "Best path (decoded) ['г Санкт-Петербург', 'г Москва', 'г Ярославль', 'г Ижевск', 'Тюменская обл, г Тюмень', 'г Омск', 'г Барнаул', 'г Кемерово', 'г Новосибирск', 'Кемеровская область - Кузбасс, г Новокузнецк', 'г Иркутск', 'г Владивосток', 'г Хабаровск', 'г Красноярск', 'г Челябинск', 'г Екатеринбург', 'г Пермь', 'г Уфа', 'г Оренбург', 'г Самара', 'г Казань', 'г Нижний Новгород', 'г Ульяновск', 'Самарская обл, г Тольятти', 'г Волгоград', 'г Махачкала', 'г Краснодар', 'г Ростов-на-Дону', 'г Воронеж', 'г Саратов']\n"
     ]
    }
   ],
   "source": [
    "best_path_named = list(map(lambda x: cities30.iloc[x].address, best_path))\n",
    "print('Best distance:', best_dist)\n",
    "print('Best path (encoded)', best_path)\n",
    "print('Best path (decoded)', best_path_named)"
   ]
  },
  {
   "cell_type": "markdown",
   "metadata": {},
   "source": [
    "### Fast cooling"
   ]
  },
  {
   "cell_type": "code",
   "execution_count": 10,
   "metadata": {},
   "outputs": [
    {
     "name": "stdout",
     "output_type": "stream",
     "text": [
      "Temperature = 10000 | Best distance = 59033.41650535962\n",
      "Temperature = 1000.0 | Best distance = 55955.793269943315\n",
      "Temperature = 100.0 | Best distance = 55491.52317671826\n",
      "Temperature = 10.0 | Best distance = 52965.211770643\n",
      "Final Temperature = 1.0 | Final Best distance = 52965.211770643\n",
      "CPU times: user 2.86 s, sys: 33.3 ms, total: 2.89 s\n",
      "Wall time: 2.9 s\n"
     ]
    },
    {
     "data": {
      "text/plain": [
       "(52965.211770643,\n",
       " array([ 8,  3, 17, 15,  7,  6,  9, 22, 24,  1, 26, 10, 13, 11,  0, 29, 12,\n",
       "        19,  5, 18, 21, 28,  2, 27, 20, 25, 16, 14,  4, 23]),\n",
       " [array([ 8,  3,  5, 15,  7,  6,  9, 22, 24,  1, 26, 10, 13, 27,  0, 29, 18,\n",
       "          4, 17, 12, 21,  2, 23, 11, 19, 28, 16, 14, 20, 25]),\n",
       "  array([ 8,  3,  5, 15,  7,  6,  9, 22, 24,  1, 26, 10, 13, 27,  0, 29, 12,\n",
       "          4, 17, 18, 21,  2, 23, 11, 20, 25, 16, 14, 19, 28]),\n",
       "  array([ 8,  3,  5, 15,  7,  6,  9, 22, 24,  1, 26, 10, 13, 27,  0, 29, 12,\n",
       "         19, 17, 18, 21,  2, 23, 11, 20, 25, 16, 14,  4, 28]),\n",
       "  array([ 8,  3, 17, 15,  7,  6,  9, 22, 24,  1, 26, 10, 13, 11,  0, 29, 12,\n",
       "         19,  5, 18, 21, 28,  2, 27, 20, 25, 16, 14,  4, 23])])"
      ]
     },
     "execution_count": 10,
     "metadata": {},
     "output_type": "execute_result"
    }
   ],
   "source": [
    "%%time\n",
    "optimize(cities30, 0.1)"
   ]
  },
  {
   "cell_type": "markdown",
   "metadata": {},
   "source": [
    "### Middle cooling"
   ]
  },
  {
   "cell_type": "code",
   "execution_count": 11,
   "metadata": {},
   "outputs": [
    {
     "name": "stdout",
     "output_type": "stream",
     "text": [
      "Temperature = 10000 | Best distance = 56204.28709104547\n",
      "Temperature = 5250.0 | Best distance = 51184.91822837005\n",
      "Temperature = 2756.25 | Best distance = 47580.186170453664\n",
      "Temperature = 1447.03125 | Best distance = 43818.41082831806\n",
      "Temperature = 759.69140625 | Best distance = 40399.47903860776\n",
      "Temperature = 398.83798828125003 | Best distance = 38862.31595724813\n",
      "Temperature = 209.38994384765627 | Best distance = 38862.31595724813\n",
      "Temperature = 109.92972052001954 | Best distance = 37449.99361117403\n",
      "Temperature = 57.71310327301026 | Best distance = 31666.826853865976\n",
      "Temperature = 30.29937921833039 | Best distance = 29498.347912353835\n",
      "Temperature = 15.907174089623455 | Best distance = 29104.930689742956\n",
      "Temperature = 8.351266397052314 | Best distance = 28684.949388113855\n",
      "Temperature = 4.384414858452465 | Best distance = 28068.410629566315\n",
      "Temperature = 2.3018178006875445 | Best distance = 28068.410629566315\n",
      "Temperature = 1.2084543453609609 | Best distance = 28068.410629566315\n",
      "Final Temperature = 0.6344385313145045 | Final Best distance = 28068.410629566315\n",
      "CPU times: user 10.4 s, sys: 122 ms, total: 10.5 s\n",
      "Wall time: 10.5 s\n"
     ]
    },
    {
     "data": {
      "text/plain": [
       "(28068.410629566315,\n",
       " array([12,  3,  0, 17, 20, 15, 24,  7,  8,  2, 10, 25, 11, 14,  1, 22, 16,\n",
       "         9, 27, 19,  4,  5,  6, 29, 13, 21, 26, 23, 18, 28]),\n",
       " [array([23, 11, 22, 10, 20,  0,  6,  7, 18, 24, 28, 29,  3, 15,  1, 12, 16,\n",
       "         21,  2, 17, 19, 14, 27, 25, 13,  5, 26,  8,  4,  9]),\n",
       "  array([23, 11,  0, 10, 20,  8, 27,  7, 18, 24,  5, 29,  3, 15,  1, 22, 16,\n",
       "         21,  2, 17, 19, 14,  6, 25, 13, 28, 26, 12,  4,  9]),\n",
       "  array([23, 11, 25, 10, 20,  8, 27,  7, 18, 24,  5,  0,  3, 15,  1, 22, 16,\n",
       "         21,  2, 17, 19, 14,  6, 29, 13, 28, 26, 12,  4,  9]),\n",
       "  array([23, 11, 25, 10, 20,  8, 27,  7, 18, 24,  5,  0,  3, 19,  1, 22, 16,\n",
       "          9,  2, 17, 15, 14,  6, 29, 13, 28, 26, 12,  4, 21]),\n",
       "  array([23,  3, 25, 10, 20,  8, 27,  7, 18, 24,  5,  0, 11, 19,  1, 22, 16,\n",
       "          9,  2, 17, 15, 14,  6, 29, 13, 21, 26, 12,  4, 28]),\n",
       "  array([23,  3, 25, 10, 20,  4, 27,  7, 18, 24,  5,  0, 11, 19,  1, 22, 16,\n",
       "          9,  2, 17, 15, 14,  6, 29, 13, 21, 26, 12,  8, 28]),\n",
       "  array([23,  3, 25, 10, 20,  4, 27,  7, 18, 24,  5,  0, 11, 19,  1, 22, 16,\n",
       "          9,  2, 17, 15, 14,  6, 29, 13, 21, 26, 12,  8, 28]),\n",
       "  array([23,  3, 25, 10, 20,  4, 24,  7,  8, 27,  5,  0, 11, 19,  1, 22, 16,\n",
       "          9,  2, 17, 15, 14,  6, 29, 13, 21, 26, 12, 18, 28]),\n",
       "  array([12,  3, 25, 10, 20,  4, 24,  7,  8, 27,  5,  0, 11, 19,  1, 22, 16,\n",
       "          9,  2, 17, 15, 14,  6, 29, 13, 21, 26, 23, 18, 28]),\n",
       "  array([12,  3, 25, 10, 20,  4, 24,  7,  8,  2,  5,  0, 11, 14,  1, 22, 16,\n",
       "          9, 27, 17, 15, 19,  6, 29, 13, 21, 26, 23, 18, 28]),\n",
       "  array([12,  3, 25, 17, 20, 15, 24,  7,  8,  2,  5,  0, 11, 14,  1, 22, 16,\n",
       "          9, 27, 10,  4, 19,  6, 29, 13, 21, 26, 23, 18, 28]),\n",
       "  array([12,  3, 25, 17, 20, 15, 24,  7,  8,  2, 19,  0, 11, 14,  1, 22, 16,\n",
       "          9, 27, 10,  4,  5,  6, 29, 13, 21, 26, 23, 18, 28]),\n",
       "  array([12,  3,  0, 17, 20, 15, 24,  7,  8,  2, 10, 25, 11, 14,  1, 22, 16,\n",
       "          9, 27, 19,  4,  5,  6, 29, 13, 21, 26, 23, 18, 28]),\n",
       "  array([12,  3,  0, 17, 20, 15, 24,  7,  8,  2, 10, 25, 11, 14,  1, 22, 16,\n",
       "          9, 27, 19,  4,  5,  6, 29, 13, 21, 26, 23, 18, 28]),\n",
       "  array([12,  3,  0, 17, 20, 15, 24,  7,  8,  2, 10, 25, 11, 14,  1, 22, 16,\n",
       "          9, 27, 19,  4,  5,  6, 29, 13, 21, 26, 23, 18, 28])])"
      ]
     },
     "execution_count": 11,
     "metadata": {},
     "output_type": "execute_result"
    }
   ],
   "source": [
    "%%time\n",
    "optimize(cities30, 0.525)"
   ]
  },
  {
   "cell_type": "markdown",
   "metadata": {},
   "source": [
    "## Visualization"
   ]
  },
  {
   "cell_type": "code",
   "execution_count": 12,
   "metadata": {
    "colab": {
     "base_uri": "https://localhost:8080/",
     "height": 825
    },
    "colab_type": "code",
    "id": "SxYTVFBRdATr",
    "outputId": "9e4aa1b1-f433-4d7d-f5f1-ae7e269914d3"
   },
   "outputs": [
    {
     "data": {
      "image/png": "[encoded data removed]",
      "text/plain": [
       "<Figure size 1008x1008 with 1 Axes>"
      ]
     },
     "metadata": {
      "needs_background": "light"
     },
     "output_type": "display_data"
    }
   ],
   "source": [
    "plt.rcParams[\"figure.figsize\"] = [14, 14]\n",
    "for i in range(1, len(best_path)):\n",
    "    from_coords = cities30.iloc[best_path[i - 1]][['geo_lon', 'geo_lat']].values\n",
    "    to_coords = cities30.iloc[best_path[i]][['geo_lon', 'geo_lat']].values\n",
    "    plt.plot([from_coords[0], to_coords[0]], [from_coords[1], to_coords[1]], '-o')\n",
    "\n",
    "for idx, name in zip(best_path, best_path_named):\n",
    "    lat, lon = cities30[['geo_lon', 'geo_lat']].iloc[idx].values\n",
    "    plt.annotate(name, (lat, lon))\n",
    "\n",
    "plt.title('Final path representation')\n",
    "plt.show()"
   ]
  },
  {
   "cell_type": "code",
   "execution_count": 15,
   "metadata": {
    "colab": {
     "base_uri": "https://localhost:8080/",
     "height": 960
    },
    "colab_type": "code",
    "id": "F5MjPJhUf2CH",
    "outputId": "04b2664f-efe6-4294-dda7-55dcad9f989b"
   },
   "outputs": [],
   "source": [
    "plt.rcParams[\"figure.figsize\"] = [12, 12]\n",
    "# First set up the figure, the axis, and the plot element we want to animate\n",
    "fig, ax = plt.subplots()\n",
    "plt.close()\n",
    "\n",
    "ax.set_xlim((25, 150))\n",
    "ax.set_ylim((42, 61))\n",
    "\n",
    "for idx, name in zip(best_path, best_path_named):\n",
    "    lat, lon = cities30[['geo_lon', 'geo_lat']].iloc[idx].values\n",
    "    ax.annotate(name, (lat, lon))\n",
    "\n",
    "lines = []\n",
    "for index in range(len(best_path) - 1):\n",
    "    lobj, = ax.plot([], [], '-o', lw=2)\n",
    "    lines.append(lobj)\n",
    "\n",
    "def init():\n",
    "    for line in lines:\n",
    "        line.set_data([],[])\n",
    "    return lines\n",
    "\n",
    "def animate(idx):\n",
    "    path = path_evolutions[idx]\n",
    "    res = []\n",
    "    for i in range(1, len(path)):\n",
    "        from_coords = cities30.iloc[path[i - 1]][['geo_lon', 'geo_lat']].values\n",
    "        to_coords = cities30.iloc[path[i]][['geo_lon', 'geo_lat']].values\n",
    "        x = [from_coords[0], to_coords[0]]\n",
    "        y = [from_coords[1], to_coords[1]]\n",
    "        lines[i - 1].set_data(x, y)\n",
    "    distance = compute_path_distance(cities30, path)\n",
    "    ax.set_title(f'Best path with distance = {distance}, iter = {idx}')\n",
    "    return lines\n",
    "  \n",
    "\n",
    "anim = animation.FuncAnimation(fig, animate, init_func=init, repeat=False,\n",
    "                               frames=len(path_evolutions), interval=125, \n",
    "                               blit=True) \n",
    "\n",
    "rc('animation', html='jshtml')\n",
    "anim"
   ]
  },
  {
   "cell_type": "code",
   "execution_count": 14,
   "metadata": {
    "colab": {
     "base_uri": "https://localhost:8080/",
     "height": 34
    },
    "colab_type": "code",
    "id": "plrs159KgmS8",
    "outputId": "4139e574-3522-4073-834d-87c048578438"
   },
   "outputs": [
    {
     "name": "stderr",
     "output_type": "stream",
     "text": [
      "MovieWriter imagemagick unavailable. Trying to use pillow instead.\n"
     ]
    }
   ],
   "source": [
    "anim.save('images/algo_animation.gif', writer='imagemagick', fps=5) "
   ]
  }
 ],
 "metadata": {
  "colab": {
   "collapsed_sections": [],
   "name": "PMLDL_assignment1-2.ipynb",
   "provenance": []
  },
  "kernelspec": {
   "display_name": "Python 3",
   "language": "python",
   "name": "python3"
  },
  "language_info": {
   "codemirror_mode": {
    "name": "ipython",
    "version": 3
   },
   "file_extension": ".py",
   "mimetype": "text/x-python",
   "name": "python",
   "nbconvert_exporter": "python",
   "pygments_lexer": "ipython3",
   "version": "3.7.2"
  }
 },
 "nbformat": 4,
 "nbformat_minor": 1
}
