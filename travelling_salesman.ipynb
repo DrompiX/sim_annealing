{
 "cells": [
  {
   "cell_type": "code",
   "execution_count": 1,
   "metadata": {
    "colab": {},
    "colab_type": "code",
    "id": "LA5bapfFBMEr"
   },
   "outputs": [],
   "source": [
    "import numpy as np \n",
    "import pandas as pd\n",
    "import matplotlib.pyplot as plt\n",
    "\n",
    "from matplotlib import animation, rc\n",
    "from IPython.display import HTML"
   ]
  },
  {
   "cell_type": "markdown",
   "metadata": {
    "colab_type": "text",
    "id": "ThEsaOr7NcRr"
   },
   "source": [
    "## Data preparation"
   ]
  },
  {
   "cell_type": "code",
   "execution_count": 2,
   "metadata": {
    "colab": {
     "base_uri": "https://localhost:8080/",
     "height": 519
    },
    "colab_type": "code",
    "id": "Um9cacTcBgEH",
    "outputId": "1a075e27-7051-4350-ff4c-fc4c17544569"
   },
   "outputs": [
    {
     "data": {
      "text/html": [
       "<div>\n",
       "<style scoped>\n",
       "    .dataframe tbody tr th:only-of-type {\n",
       "        vertical-align: middle;\n",
       "    }\n",
       "\n",
       "    .dataframe tbody tr th {\n",
       "        vertical-align: top;\n",
       "    }\n",
       "\n",
       "    .dataframe thead th {\n",
       "        text-align: right;\n",
       "    }\n",
       "</style>\n",
       "<table border=\"1\" class=\"dataframe\">\n",
       "  <thead>\n",
       "    <tr style=\"text-align: right;\">\n",
       "      <th></th>\n",
       "      <th>address</th>\n",
       "      <th>postal_code</th>\n",
       "      <th>country</th>\n",
       "      <th>federal_district</th>\n",
       "      <th>region_type</th>\n",
       "      <th>region</th>\n",
       "      <th>area_type</th>\n",
       "      <th>area</th>\n",
       "      <th>city_type</th>\n",
       "      <th>city</th>\n",
       "      <th>...</th>\n",
       "      <th>fias_level</th>\n",
       "      <th>capital_marker</th>\n",
       "      <th>okato</th>\n",
       "      <th>oktmo</th>\n",
       "      <th>tax_office</th>\n",
       "      <th>timezone</th>\n",
       "      <th>geo_lat</th>\n",
       "      <th>geo_lon</th>\n",
       "      <th>population</th>\n",
       "      <th>foundation_year</th>\n",
       "    </tr>\n",
       "  </thead>\n",
       "  <tbody>\n",
       "    <tr>\n",
       "      <th>0</th>\n",
       "      <td>Респ Адыгея, г Адыгейск</td>\n",
       "      <td>385200.0</td>\n",
       "      <td>Россия</td>\n",
       "      <td>Южный</td>\n",
       "      <td>Респ</td>\n",
       "      <td>Адыгея</td>\n",
       "      <td>NaN</td>\n",
       "      <td>NaN</td>\n",
       "      <td>г</td>\n",
       "      <td>Адыгейск</td>\n",
       "      <td>...</td>\n",
       "      <td>4</td>\n",
       "      <td>0</td>\n",
       "      <td>79403000000</td>\n",
       "      <td>79703000001</td>\n",
       "      <td>107</td>\n",
       "      <td>UTC+3</td>\n",
       "      <td>44.878414</td>\n",
       "      <td>39.190289</td>\n",
       "      <td>12689</td>\n",
       "      <td>1969</td>\n",
       "    </tr>\n",
       "    <tr>\n",
       "      <th>1</th>\n",
       "      <td>г Майкоп</td>\n",
       "      <td>385000.0</td>\n",
       "      <td>Россия</td>\n",
       "      <td>Южный</td>\n",
       "      <td>Респ</td>\n",
       "      <td>Адыгея</td>\n",
       "      <td>NaN</td>\n",
       "      <td>NaN</td>\n",
       "      <td>г</td>\n",
       "      <td>Майкоп</td>\n",
       "      <td>...</td>\n",
       "      <td>4</td>\n",
       "      <td>2</td>\n",
       "      <td>79401000000</td>\n",
       "      <td>79701000001</td>\n",
       "      <td>105</td>\n",
       "      <td>UTC+3</td>\n",
       "      <td>44.609827</td>\n",
       "      <td>40.100661</td>\n",
       "      <td>144055</td>\n",
       "      <td>1857</td>\n",
       "    </tr>\n",
       "    <tr>\n",
       "      <th>2</th>\n",
       "      <td>г Горно-Алтайск</td>\n",
       "      <td>649000.0</td>\n",
       "      <td>Россия</td>\n",
       "      <td>Сибирский</td>\n",
       "      <td>Респ</td>\n",
       "      <td>Алтай</td>\n",
       "      <td>NaN</td>\n",
       "      <td>NaN</td>\n",
       "      <td>г</td>\n",
       "      <td>Горно-Алтайск</td>\n",
       "      <td>...</td>\n",
       "      <td>4</td>\n",
       "      <td>2</td>\n",
       "      <td>84401000000</td>\n",
       "      <td>84701000</td>\n",
       "      <td>400</td>\n",
       "      <td>UTC+7</td>\n",
       "      <td>51.958103</td>\n",
       "      <td>85.960324</td>\n",
       "      <td>62861</td>\n",
       "      <td>1830</td>\n",
       "    </tr>\n",
       "    <tr>\n",
       "      <th>3</th>\n",
       "      <td>Алтайский край, г Алейск</td>\n",
       "      <td>658125.0</td>\n",
       "      <td>Россия</td>\n",
       "      <td>Сибирский</td>\n",
       "      <td>край</td>\n",
       "      <td>Алтайский</td>\n",
       "      <td>NaN</td>\n",
       "      <td>NaN</td>\n",
       "      <td>г</td>\n",
       "      <td>Алейск</td>\n",
       "      <td>...</td>\n",
       "      <td>4</td>\n",
       "      <td>0</td>\n",
       "      <td>1403000000</td>\n",
       "      <td>1703000</td>\n",
       "      <td>2201</td>\n",
       "      <td>UTC+7</td>\n",
       "      <td>52.492251</td>\n",
       "      <td>82.779361</td>\n",
       "      <td>28528</td>\n",
       "      <td>1913</td>\n",
       "    </tr>\n",
       "    <tr>\n",
       "      <th>4</th>\n",
       "      <td>г Барнаул</td>\n",
       "      <td>656000.0</td>\n",
       "      <td>Россия</td>\n",
       "      <td>Сибирский</td>\n",
       "      <td>край</td>\n",
       "      <td>Алтайский</td>\n",
       "      <td>NaN</td>\n",
       "      <td>NaN</td>\n",
       "      <td>г</td>\n",
       "      <td>Барнаул</td>\n",
       "      <td>...</td>\n",
       "      <td>4</td>\n",
       "      <td>2</td>\n",
       "      <td>1401000000</td>\n",
       "      <td>1701000</td>\n",
       "      <td>2200</td>\n",
       "      <td>UTC+7</td>\n",
       "      <td>53.347997</td>\n",
       "      <td>83.779806</td>\n",
       "      <td>635585</td>\n",
       "      <td>1730</td>\n",
       "    </tr>\n",
       "  </tbody>\n",
       "</table>\n",
       "<p>5 rows × 24 columns</p>\n",
       "</div>"
      ],
      "text/plain": [
       "                    address  postal_code country federal_district region_type  \\\n",
       "0   Респ Адыгея, г Адыгейск     385200.0  Россия            Южный        Респ   \n",
       "1                  г Майкоп     385000.0  Россия            Южный        Респ   \n",
       "2           г Горно-Алтайск     649000.0  Россия        Сибирский        Респ   \n",
       "3  Алтайский край, г Алейск     658125.0  Россия        Сибирский        край   \n",
       "4                 г Барнаул     656000.0  Россия        Сибирский        край   \n",
       "\n",
       "      region area_type area city_type           city  ... fias_level  \\\n",
       "0     Адыгея       NaN  NaN         г       Адыгейск  ...          4   \n",
       "1     Адыгея       NaN  NaN         г         Майкоп  ...          4   \n",
       "2      Алтай       NaN  NaN         г  Горно-Алтайск  ...          4   \n",
       "3  Алтайский       NaN  NaN         г         Алейск  ...          4   \n",
       "4  Алтайский       NaN  NaN         г        Барнаул  ...          4   \n",
       "\n",
       "  capital_marker        okato        oktmo  tax_office  timezone    geo_lat  \\\n",
       "0              0  79403000000  79703000001         107     UTC+3  44.878414   \n",
       "1              2  79401000000  79701000001         105     UTC+3  44.609827   \n",
       "2              2  84401000000     84701000         400     UTC+7  51.958103   \n",
       "3              0   1403000000      1703000        2201     UTC+7  52.492251   \n",
       "4              2   1401000000      1701000        2200     UTC+7  53.347997   \n",
       "\n",
       "     geo_lon  population foundation_year  \n",
       "0  39.190289       12689            1969  \n",
       "1  40.100661      144055            1857  \n",
       "2  85.960324       62861            1830  \n",
       "3  82.779361       28528            1913  \n",
       "4  83.779806      635585            1730  \n",
       "\n",
       "[5 rows x 24 columns]"
      ]
     },
     "execution_count": 2,
     "metadata": {},
     "output_type": "execute_result"
    }
   ],
   "source": [
    "cities = pd.read_csv('data/city.csv')\n",
    "cities.head()"
   ]
  },
  {
   "cell_type": "code",
   "execution_count": 3,
   "metadata": {
    "colab": {
     "base_uri": "https://localhost:8080/",
     "height": 204
    },
    "colab_type": "code",
    "id": "sEeneSarDHRJ",
    "outputId": "ea93646d-4b14-4fd4-8802-9d31e58cab17"
   },
   "outputs": [
    {
     "data": {
      "text/html": [
       "<div>\n",
       "<style scoped>\n",
       "    .dataframe tbody tr th:only-of-type {\n",
       "        vertical-align: middle;\n",
       "    }\n",
       "\n",
       "    .dataframe tbody tr th {\n",
       "        vertical-align: top;\n",
       "    }\n",
       "\n",
       "    .dataframe thead th {\n",
       "        text-align: right;\n",
       "    }\n",
       "</style>\n",
       "<table border=\"1\" class=\"dataframe\">\n",
       "  <thead>\n",
       "    <tr style=\"text-align: right;\">\n",
       "      <th></th>\n",
       "      <th>address</th>\n",
       "      <th>geo_lat</th>\n",
       "      <th>geo_lon</th>\n",
       "      <th>population</th>\n",
       "    </tr>\n",
       "  </thead>\n",
       "  <tbody>\n",
       "    <tr>\n",
       "      <th>0</th>\n",
       "      <td>г Москва</td>\n",
       "      <td>55.754047</td>\n",
       "      <td>37.620405</td>\n",
       "      <td>11514330</td>\n",
       "    </tr>\n",
       "    <tr>\n",
       "      <th>1</th>\n",
       "      <td>г Санкт-Петербург</td>\n",
       "      <td>59.939131</td>\n",
       "      <td>30.315900</td>\n",
       "      <td>4848742</td>\n",
       "    </tr>\n",
       "    <tr>\n",
       "      <th>2</th>\n",
       "      <td>г Новосибирск</td>\n",
       "      <td>55.028191</td>\n",
       "      <td>82.921149</td>\n",
       "      <td>1498921</td>\n",
       "    </tr>\n",
       "    <tr>\n",
       "      <th>3</th>\n",
       "      <td>г Екатеринбург</td>\n",
       "      <td>56.838522</td>\n",
       "      <td>60.605491</td>\n",
       "      <td>1377738</td>\n",
       "    </tr>\n",
       "    <tr>\n",
       "      <th>4</th>\n",
       "      <td>г Нижний Новгород</td>\n",
       "      <td>56.324063</td>\n",
       "      <td>44.005391</td>\n",
       "      <td>1250615</td>\n",
       "    </tr>\n",
       "  </tbody>\n",
       "</table>\n",
       "</div>"
      ],
      "text/plain": [
       "             address    geo_lat    geo_lon  population\n",
       "0           г Москва  55.754047  37.620405    11514330\n",
       "1  г Санкт-Петербург  59.939131  30.315900     4848742\n",
       "2      г Новосибирск  55.028191  82.921149     1498921\n",
       "3     г Екатеринбург  56.838522  60.605491     1377738\n",
       "4  г Нижний Новгород  56.324063  44.005391     1250615"
      ]
     },
     "execution_count": 3,
     "metadata": {},
     "output_type": "execute_result"
    }
   ],
   "source": [
    "def str2int(population: str):\n",
    "    if population.endswith(']'):\n",
    "        return int(population[:-3])\n",
    "    else:\n",
    "        return int(population)\n",
    "\n",
    "cities.loc[:, 'population'] = list(map(str2int, cities.population))\n",
    "cities = cities[['address', 'geo_lat', 'geo_lon', 'population']]\n",
    "\n",
    "cities30 = cities.sort_values(by='population', ascending=False).head(30)\n",
    "cities30.reset_index(inplace=True, drop=True)\n",
    "cities30.head()"
   ]
  },
  {
   "cell_type": "code",
   "execution_count": 4,
   "metadata": {
    "colab": {},
    "colab_type": "code",
    "id": "zU_KDTHmFtJG"
   },
   "outputs": [],
   "source": [
    "import geopy.distance\n",
    "\n",
    "def get_distance(coords1: tuple, coords2: tuple):\n",
    "    return geopy.distance.geodesic(coords1, coords2).km"
   ]
  },
  {
   "cell_type": "code",
   "execution_count": 5,
   "metadata": {
    "colab": {
     "base_uri": "https://localhost:8080/",
     "height": 51
    },
    "colab_type": "code",
    "id": "hpLHf02oF9Zf",
    "outputId": "82d2c522-e41b-4d03-a39c-3a801d19d030"
   },
   "outputs": [
    {
     "name": "stdout",
     "output_type": "stream",
     "text": [
      "[55.7540471 37.620405 ] [59.9391313 30.3159004]\n",
      "636.0231024849263\n"
     ]
    }
   ],
   "source": [
    "f_dist, s_dist = cities30[['geo_lat', 'geo_lon']].iloc[:2].values\n",
    "print(f_dist, s_dist)\n",
    "print(get_distance(f_dist, s_dist))"
   ]
  },
  {
   "cell_type": "markdown",
   "metadata": {
    "colab_type": "text",
    "id": "Nl0hrg2JNZdn"
   },
   "source": [
    "## Optimization"
   ]
  },
  {
   "cell_type": "code",
   "execution_count": 6,
   "metadata": {
    "colab": {
     "base_uri": "https://localhost:8080/",
     "height": 204
    },
    "colab_type": "code",
    "id": "lhDJvonvRKHk",
    "outputId": "2e03de06-7551-4406-8d80-98c42a53cd0e"
   },
   "outputs": [
    {
     "data": {
      "text/html": [
       "<div>\n",
       "<style scoped>\n",
       "    .dataframe tbody tr th:only-of-type {\n",
       "        vertical-align: middle;\n",
       "    }\n",
       "\n",
       "    .dataframe tbody tr th {\n",
       "        vertical-align: top;\n",
       "    }\n",
       "\n",
       "    .dataframe thead th {\n",
       "        text-align: right;\n",
       "    }\n",
       "</style>\n",
       "<table border=\"1\" class=\"dataframe\">\n",
       "  <thead>\n",
       "    <tr style=\"text-align: right;\">\n",
       "      <th></th>\n",
       "      <th>address</th>\n",
       "      <th>geo_lat</th>\n",
       "      <th>geo_lon</th>\n",
       "      <th>population</th>\n",
       "    </tr>\n",
       "  </thead>\n",
       "  <tbody>\n",
       "    <tr>\n",
       "      <th>0</th>\n",
       "      <td>г Москва</td>\n",
       "      <td>55.754047</td>\n",
       "      <td>37.620405</td>\n",
       "      <td>11514330</td>\n",
       "    </tr>\n",
       "    <tr>\n",
       "      <th>1</th>\n",
       "      <td>г Санкт-Петербург</td>\n",
       "      <td>59.939131</td>\n",
       "      <td>30.315900</td>\n",
       "      <td>4848742</td>\n",
       "    </tr>\n",
       "    <tr>\n",
       "      <th>2</th>\n",
       "      <td>г Новосибирск</td>\n",
       "      <td>55.028191</td>\n",
       "      <td>82.921149</td>\n",
       "      <td>1498921</td>\n",
       "    </tr>\n",
       "    <tr>\n",
       "      <th>3</th>\n",
       "      <td>г Екатеринбург</td>\n",
       "      <td>56.838522</td>\n",
       "      <td>60.605491</td>\n",
       "      <td>1377738</td>\n",
       "    </tr>\n",
       "    <tr>\n",
       "      <th>4</th>\n",
       "      <td>г Нижний Новгород</td>\n",
       "      <td>56.324063</td>\n",
       "      <td>44.005391</td>\n",
       "      <td>1250615</td>\n",
       "    </tr>\n",
       "  </tbody>\n",
       "</table>\n",
       "</div>"
      ],
      "text/plain": [
       "             address    geo_lat    geo_lon  population\n",
       "0           г Москва  55.754047  37.620405    11514330\n",
       "1  г Санкт-Петербург  59.939131  30.315900     4848742\n",
       "2      г Новосибирск  55.028191  82.921149     1498921\n",
       "3     г Екатеринбург  56.838522  60.605491     1377738\n",
       "4  г Нижний Новгород  56.324063  44.005391     1250615"
      ]
     },
     "execution_count": 6,
     "metadata": {},
     "output_type": "execute_result"
    }
   ],
   "source": [
    "cities30.head()"
   ]
  },
  {
   "cell_type": "code",
   "execution_count": 25,
   "metadata": {
    "colab": {
     "base_uri": "https://localhost:8080/",
     "height": 1000
    },
    "colab_type": "code",
    "id": "ZzyLmXTaMIgi",
    "outputId": "bf16fcf2-f390-4bda-d329-d1e1b8d1d69f"
   },
   "outputs": [],
   "source": [
    "def compute_path_distance(data: pd.DataFrame, path: np.ndarray) -> float:\n",
    "    total_dist = 0\n",
    "    for i in range(1, len(path)):\n",
    "        prev_coords = data[['geo_lat', 'geo_lon']].iloc[path[i - 1]].values\n",
    "        cur_coords = data[['geo_lat', 'geo_lon']].iloc[path[i]].values\n",
    "        total_dist += np.abs(get_distance(prev_coords, cur_coords))\n",
    "    return total_dist\n",
    "\n",
    "def acceptance_prob(old_dist: float, new_dist: float, temp: float) -> float:\n",
    "    return 1.0 if new_dist < old_dist else np.exp((old_dist - new_dist) / temp)\n",
    "\n",
    "def optimize(data: pd.DataFrame, annealing_rate=0.95) -> (float, np.ndarray):\n",
    "    annealing_rate = annealing_rate\n",
    "    annealing_schedule = 7\n",
    "    city_idx_range = list(range(30))\n",
    "\n",
    "    cur_path = np.random.choice(data.index.values, size=data.index.size, \n",
    "                                 replace=False)\n",
    "    cur_dist = compute_path_distance(data, cur_path)\n",
    "    temp, t = cur_dist, 0\n",
    "\n",
    "    path_evolutions = []\n",
    "    while temp > 1e-2:\n",
    "        # select cities to swap\n",
    "        from_id, to_id = np.random.choice(city_idx_range, size=2, replace=False)\n",
    "        # make swap and create new path\n",
    "        new_path = cur_path.copy()\n",
    "        new_path[from_id], new_path[to_id] = new_path[to_id], new_path[from_id]\n",
    "        \n",
    "        new_dist = compute_path_distance(data, new_path)\n",
    "        cur_dist = compute_path_distance(data, cur_path)\n",
    "        \n",
    "        ap = acceptance_prob(cur_dist, new_dist, temp)\n",
    "        if ap > np.random.rand():\n",
    "            cur_path = new_path\n",
    "            cur_dist = new_dist\n",
    "\n",
    "        if t > 0 and t % annealing_schedule == 0:\n",
    "            # temperature annealing and distance reporting\n",
    "            print(f'Temperature = {temp} | Best distance = {cur_dist}')\n",
    "            temp *= annealing_rate\n",
    "            path_evolutions.append(cur_path)\n",
    "\n",
    "        t += 1\n",
    "    \n",
    "    print(f'Final Temperature = {temp} | Final Best distance = {cur_dist}')\n",
    "    return cur_dist, cur_path, path_evolutions"
   ]
  },
  {
   "cell_type": "markdown",
   "metadata": {},
   "source": [
    "### Slow cooling"
   ]
  },
  {
   "cell_type": "code",
   "execution_count": 30,
   "metadata": {
    "scrolled": false
   },
   "outputs": [
    {
     "name": "stdout",
     "output_type": "stream",
     "text": [
      "Temperature = 56051.65503256185 | Best distance = 61108.25114208722\n",
      "Temperature = 51567.522629956904 | Best distance = 54596.081382964454\n",
      "Temperature = 47442.120819560354 | Best distance = 48742.27259479689\n",
      "Temperature = 43646.75115399553 | Best distance = 55812.75169359507\n",
      "Temperature = 40155.01106167589 | Best distance = 55232.71612106013\n",
      "Temperature = 36942.61017674182 | Best distance = 53968.84146600021\n",
      "Temperature = 33987.20136260248 | Best distance = 57902.46584905109\n",
      "Temperature = 31268.225253594283 | Best distance = 62089.06537248804\n",
      "Temperature = 28766.767233306742 | Best distance = 50248.32422387004\n",
      "Temperature = 26465.425854642202 | Best distance = 54800.64074283589\n",
      "Temperature = 24348.19178627083 | Best distance = 70304.89859068707\n",
      "Temperature = 22400.336443369164 | Best distance = 60334.59309666699\n",
      "Temperature = 20608.309527899633 | Best distance = 58129.80355884419\n",
      "Temperature = 18959.644765667665 | Best distance = 53725.29397827167\n",
      "Temperature = 17442.873184414253 | Best distance = 48166.807855675965\n",
      "Temperature = 16047.443329661113 | Best distance = 54649.811696679\n",
      "Temperature = 14763.647863288224 | Best distance = 46598.11983261159\n",
      "Temperature = 13582.556034225167 | Best distance = 48454.760679538114\n",
      "Temperature = 12495.951551487155 | Best distance = 43201.97281876446\n",
      "Temperature = 11496.275427368182 | Best distance = 53511.784037770725\n",
      "Temperature = 10576.573393178727 | Best distance = 58084.68385953383\n",
      "Temperature = 9730.447521724429 | Best distance = 56341.46460799952\n",
      "Temperature = 8952.011719986474 | Best distance = 65100.759401482326\n",
      "Temperature = 8235.850782387557 | Best distance = 58887.28876464844\n",
      "Temperature = 7576.982719796552 | Best distance = 63581.83053232946\n",
      "Temperature = 6970.824102212829 | Best distance = 60738.47303897025\n",
      "Temperature = 6413.158174035802 | Best distance = 57536.74945619027\n",
      "Temperature = 5900.105520112938 | Best distance = 49224.77689516789\n",
      "Temperature = 5428.0970785039035 | Best distance = 50722.860800801674\n",
      "Temperature = 4993.849312223591 | Best distance = 49175.905952599904\n",
      "Temperature = 4594.3413672457045 | Best distance = 52889.900196351584\n",
      "Temperature = 4226.794057866048 | Best distance = 48421.39890243093\n",
      "Temperature = 3888.6505332367647 | Best distance = 48658.174433393295\n",
      "Temperature = 3577.5584905778237 | Best distance = 49893.20752712011\n",
      "Temperature = 3291.353811331598 | Best distance = 43061.84597417754\n",
      "Temperature = 3028.0455064250705 | Best distance = 47688.13460669442\n",
      "Temperature = 2785.801865911065 | Best distance = 44215.579293093666\n",
      "Temperature = 2562.9377166381796 | Best distance = 45515.98407249187\n",
      "Temperature = 2357.902699307125 | Best distance = 39979.26561283022\n",
      "Temperature = 2169.2704833625553 | Best distance = 40428.20615276481\n",
      "Temperature = 1995.7288446935509 | Best distance = 38297.93182694894\n",
      "Temperature = 1836.0705371180668 | Best distance = 40774.434567018936\n",
      "Temperature = 1689.1848941486214 | Best distance = 42597.50080981779\n",
      "Temperature = 1554.0501026167317 | Best distance = 42510.4602355822\n",
      "Temperature = 1429.7260944073932 | Best distance = 40416.101057357664\n",
      "Temperature = 1315.348006854802 | Best distance = 40785.35664147804\n",
      "Temperature = 1210.1201663064178 | Best distance = 38278.89187206463\n",
      "Temperature = 1113.3105530019045 | Best distance = 38587.416511215444\n",
      "Temperature = 1024.2457087617522 | Best distance = 38457.61093864698\n",
      "Temperature = 942.306052060812 | Best distance = 39170.04095990318\n",
      "Temperature = 866.9215678959471 | Best distance = 39446.848634918395\n",
      "Temperature = 797.5678424642714 | Best distance = 38675.34454349116\n",
      "Temperature = 733.7624150671297 | Best distance = 36256.129970317736\n",
      "Temperature = 675.0614218617594 | Best distance = 34644.97698362967\n",
      "Temperature = 621.0565081128187 | Best distance = 32805.45174028627\n",
      "Temperature = 571.3719874637933 | Best distance = 32732.315838841652\n",
      "Temperature = 525.6622284666898 | Best distance = 32646.87849297338\n",
      "Temperature = 483.60925018935467 | Best distance = 34003.686689070346\n",
      "Temperature = 444.9205101742063 | Best distance = 33625.62462648461\n",
      "Temperature = 409.3268693602698 | Best distance = 33451.92652319888\n",
      "Temperature = 376.58071981144826 | Best distance = 28128.422461497357\n",
      "Temperature = 346.4542622265324 | Best distance = 28190.613642333898\n",
      "Temperature = 318.73792124840986 | Best distance = 28225.306855814233\n",
      "Temperature = 293.2388875485371 | Best distance = 27507.14879223503\n",
      "Temperature = 269.7797765446541 | Best distance = 26815.461959824916\n",
      "Temperature = 248.19739442108178 | Best distance = 26161.962030593128\n",
      "Temperature = 228.34160286739524 | Best distance = 26503.963998522795\n",
      "Temperature = 210.07427463800363 | Best distance = 27182.775725745883\n",
      "Temperature = 193.26833266696335 | Best distance = 27182.775725745883\n",
      "Temperature = 177.80686605360629 | Best distance = 27257.721709186582\n",
      "Temperature = 163.5823167693178 | Best distance = 26589.689860575683\n",
      "Temperature = 150.49573142777237 | Best distance = 26455.836883996144\n",
      "Temperature = 138.4560729135506 | Best distance = 26455.836883996144\n",
      "Temperature = 127.37958708046656 | Best distance = 26455.836883996144\n",
      "Temperature = 117.18922011402924 | Best distance = 26455.836883996144\n",
      "Temperature = 107.8140825049069 | Best distance = 26010.96358478037\n",
      "Temperature = 99.18895590451436 | Best distance = 26010.96358478037\n",
      "Temperature = 91.25383943215321 | Best distance = 25841.343983968087\n",
      "Temperature = 83.95353227758096 | Best distance = 25792.228383347654\n",
      "Temperature = 77.23724969537449 | Best distance = 25792.228383347654\n",
      "Temperature = 71.05826971974453 | Best distance = 25775.364732518785\n",
      "Temperature = 65.37360814216497 | Best distance = 24918.38047215276\n",
      "Temperature = 60.143719490791774 | Best distance = 24920.102292827443\n",
      "Temperature = 55.33222193152844 | Best distance = 24920.102292827443\n",
      "Temperature = 50.90564417700617 | Best distance = 24920.102292827443\n",
      "Temperature = 46.833192642845674 | Best distance = 24920.102292827443\n",
      "Temperature = 43.08653723141802 | Best distance = 24920.102292827443\n",
      "Temperature = 39.63961425290458 | Best distance = 24783.87041080927\n",
      "Temperature = 36.468445112672214 | Best distance = 24783.87041080927\n",
      "Temperature = 33.550969503658436 | Best distance = 24768.126664047704\n",
      "Temperature = 30.86689194336576 | Best distance = 24111.42969312243\n",
      "Temperature = 28.3975405878965 | Best distance = 24111.42969312243\n",
      "Temperature = 26.12573734086478 | Best distance = 24111.42969312243\n",
      "Temperature = 24.0356783535956 | Best distance = 24147.090047562015\n",
      "Temperature = 22.112824085307953 | Best distance = 24147.090047562015\n",
      "Temperature = 20.343798158483317 | Best distance = 24147.090047562015\n",
      "Temperature = 18.716294305804652 | Best distance = 24147.090047562015\n",
      "Temperature = 17.21899076134028 | Best distance = 24147.090047562015\n",
      "Temperature = 15.841471500433057 | Best distance = 23994.7456740142\n",
      "Temperature = 14.574153780398413 | Best distance = 23963.127606556423\n",
      "Temperature = 13.40822147796654 | Best distance = 23914.152290719772\n",
      "Temperature = 12.335563759729217 | Best distance = 23869.202245375593\n",
      "Temperature = 11.34871865895088 | Best distance = 23869.202245375593\n",
      "Temperature = 10.440821166234809 | Best distance = 23869.202245375593\n",
      "Temperature = 9.605555472936025 | Best distance = 23484.246028579513\n",
      "Temperature = 8.837111035101143 | Best distance = 23353.043691023617\n",
      "Temperature = 8.130142152293052 | Best distance = 23353.043691023617\n",
      "Temperature = 7.479730780109608 | Best distance = 23353.043691023617\n",
      "Temperature = 6.8813523177008395 | Best distance = 23353.043691023617\n",
      "Temperature = 6.330844132284772 | Best distance = 23353.043691023617\n",
      "Temperature = 5.8243766017019905 | Best distance = 23351.416439643395\n",
      "Temperature = 5.358426473565832 | Best distance = 23351.416439643395\n",
      "Temperature = 4.929752355680566 | Best distance = 23351.416439643395\n",
      "Temperature = 4.535372167226121 | Best distance = 23351.416439643395\n",
      "Temperature = 4.1725423938480315 | Best distance = 23085.1391692103\n",
      "Temperature = 3.8387390023401893 | Best distance = 23035.65601216747\n",
      "Temperature = 3.5316398821529744 | Best distance = 23035.65601216747\n",
      "Temperature = 3.249108691580737 | Best distance = 23035.65601216747\n",
      "Temperature = 2.9891799962542778 | Best distance = 23035.65601216747\n"
     ]
    },
    {
     "name": "stdout",
     "output_type": "stream",
     "text": [
      "Temperature = 2.7500455965539357 | Best distance = 23026.152680641608\n",
      "Temperature = 2.530041948829621 | Best distance = 23026.152680641608\n",
      "Temperature = 2.3276385929232513 | Best distance = 23026.152680641608\n",
      "Temperature = 2.1414275054893914 | Best distance = 23026.152680641608\n",
      "Temperature = 1.9701133050502402 | Best distance = 23026.152680641608\n",
      "Temperature = 1.812504240646221 | Best distance = 23026.152680641608\n",
      "Temperature = 1.6675039013945234 | Best distance = 23026.152680641608\n",
      "Temperature = 1.5341035892829615 | Best distance = 23026.152680641608\n",
      "Temperature = 1.4113753021403246 | Best distance = 23004.218063381035\n",
      "Temperature = 1.2984652779690986 | Best distance = 23004.218063381035\n",
      "Temperature = 1.1945880557315707 | Best distance = 23004.218063381035\n",
      "Temperature = 1.099021011273045 | Best distance = 23004.218063381035\n",
      "Temperature = 1.0110993303712015 | Best distance = 23004.218063381035\n",
      "Temperature = 0.9302113839415054 | Best distance = 22965.284366782198\n",
      "Temperature = 0.855794473226185 | Best distance = 22965.284366782198\n",
      "Temperature = 0.7873309153680902 | Best distance = 22965.284366782198\n",
      "Temperature = 0.724344442138643 | Best distance = 22965.284366782198\n",
      "Temperature = 0.6663968867675516 | Best distance = 22965.284366782198\n",
      "Temperature = 0.6130851358261475 | Best distance = 22965.284366782198\n",
      "Temperature = 0.5640383249600558 | Best distance = 22965.284366782198\n",
      "Temperature = 0.5189152589632513 | Best distance = 22965.284366782198\n",
      "Temperature = 0.4774020382461912 | Best distance = 22965.284366782198\n",
      "Temperature = 0.43920987518649596 | Best distance = 22965.284366782198\n",
      "Temperature = 0.4040730851715763 | Best distance = 22927.72148555764\n",
      "Temperature = 0.37174723835785023 | Best distance = 22927.72148555764\n",
      "Temperature = 0.3420074592892222 | Best distance = 22927.72148555764\n",
      "Temperature = 0.3146468625460844 | Best distance = 22927.72148555764\n",
      "Temperature = 0.2894751135423977 | Best distance = 22927.72148555764\n",
      "Temperature = 0.26631710445900586 | Best distance = 22899.10496421034\n",
      "Temperature = 0.2450117361022854 | Best distance = 22899.10496421034\n",
      "Temperature = 0.2254107972141026 | Best distance = 22899.10496421034\n",
      "Temperature = 0.2073779334369744 | Best distance = 22889.970155979598\n",
      "Temperature = 0.19078769876201646 | Best distance = 22807.65007566779\n",
      "Temperature = 0.17552468286105516 | Best distance = 22807.65007566779\n",
      "Temperature = 0.16148270823217076 | Best distance = 22654.401116265075\n",
      "Temperature = 0.1485640915735971 | Best distance = 22654.401116265075\n",
      "Temperature = 0.13667896424770934 | Best distance = 22654.401116265075\n",
      "Temperature = 0.1257446471078926 | Best distance = 22654.401116265075\n",
      "Temperature = 0.1156850753392612 | Best distance = 22654.401116265075\n",
      "Temperature = 0.10643026931212031 | Best distance = 22444.586478503028\n",
      "Temperature = 0.09791584776715069 | Best distance = 22408.36959336429\n",
      "Temperature = 0.09008257994577865 | Best distance = 22408.36959336429\n",
      "Temperature = 0.08287597355011636 | Best distance = 22408.36959336429\n",
      "Temperature = 0.07624589566610705 | Best distance = 21867.631866008236\n",
      "Temperature = 0.07014622401281849 | Best distance = 21867.631866008236\n",
      "Temperature = 0.06453452609179301 | Best distance = 21867.631866008236\n",
      "Temperature = 0.05937176400444957 | Best distance = 21396.645582183497\n",
      "Temperature = 0.05462202288409361 | Best distance = 21396.645582183497\n",
      "Temperature = 0.050252261053366123 | Best distance = 21396.645582183497\n",
      "Temperature = 0.046232080169096836 | Best distance = 21162.661351555413\n",
      "Temperature = 0.04253351375556909 | Best distance = 20536.785679961627\n",
      "Temperature = 0.039130832655123564 | Best distance = 20536.785679961627\n",
      "Temperature = 0.03600036604271368 | Best distance = 20536.785679961627\n",
      "Temperature = 0.033120336759296584 | Best distance = 20536.785679961627\n",
      "Temperature = 0.03047070981855286 | Best distance = 20536.785679961627\n",
      "Temperature = 0.028033053033068633 | Best distance = 20536.785679961627\n",
      "Temperature = 0.025790408790423144 | Best distance = 20536.785679961627\n",
      "Temperature = 0.023727176087189293 | Best distance = 20536.785679961627\n",
      "Temperature = 0.021829002000214152 | Best distance = 20536.785679961627\n",
      "Temperature = 0.02008268184019702 | Best distance = 20536.785679961627\n",
      "Temperature = 0.01847606729298126 | Best distance = 20536.785679961627\n",
      "Temperature = 0.01699798190954276 | Best distance = 19936.655578209506\n",
      "Temperature = 0.01563814335677934 | Best distance = 19936.655578209506\n",
      "Temperature = 0.014387091888236992 | Best distance = 19936.655578209506\n",
      "Temperature = 0.013236124537178033 | Best distance = 19936.655578209506\n",
      "Temperature = 0.01217723457420379 | Best distance = 19936.655578209506\n",
      "Temperature = 0.011203055808267488 | Best distance = 19936.655578209506\n",
      "Temperature = 0.010306811343606089 | Best distance = 19609.595099966453\n",
      "Final Temperature = 0.009482266436117602 | Final Best distance = 19609.595099966453\n",
      "CPU times: user 2min 15s, sys: 1.98 s, total: 2min 17s\n",
      "Wall time: 2min 19s\n"
     ]
    }
   ],
   "source": [
    "%%time\n",
    "best_dist, best_path, path_evolutions = optimize(cities30, 0.92)"
   ]
  },
  {
   "cell_type": "code",
   "execution_count": 31,
   "metadata": {},
   "outputs": [
    {
     "name": "stdout",
     "output_type": "stream",
     "text": [
      "Best distance: 19609.595099966453\n",
      "Best path (encoded) [ 1 22  0 14  9 16 25 10  2 29 13 26 21 23 28 18  7 27  6 11 15 17 20  4\n",
      "  5 19 12  3  8 24]\n",
      "Best path (decoded) ['г Санкт-Петербург', 'г Ярославль', 'г Москва', 'г Воронеж', 'г Ростов-на-Дону', 'г Краснодар', 'г Махачкала', 'г Уфа', 'г Новосибирск', 'г Кемерово', 'г Красноярск', 'г Хабаровск', 'г Владивосток', 'г Иркутск', 'Кемеровская область - Кузбасс, г Новокузнецк', 'г Барнаул', 'г Омск', 'г Оренбург', 'г Самара', 'г Волгоград', 'г Саратов', 'Самарская обл, г Тольятти', 'г Ульяновск', 'г Нижний Новгород', 'г Казань', 'г Ижевск', 'г Пермь', 'г Екатеринбург', 'г Челябинск', 'Тюменская обл, г Тюмень']\n"
     ]
    }
   ],
   "source": [
    "best_path_named = list(map(lambda x: cities30.iloc[x].address, best_path))\n",
    "print('Best distance:', best_dist)\n",
    "print('Best path (encoded)', best_path)\n",
    "print('Best path (decoded)', best_path_named)"
   ]
  },
  {
   "cell_type": "markdown",
   "metadata": {},
   "source": [
    "### Fast cooling"
   ]
  },
  {
   "cell_type": "code",
   "execution_count": 37,
   "metadata": {},
   "outputs": [
    {
     "name": "stdout",
     "output_type": "stream",
     "text": [
      "Temperature = 45556.335806517214 | Best distance = 52978.532039030855\n",
      "Temperature = 18222.534322606887 | Best distance = 52481.45599932871\n",
      "Temperature = 7289.013729042756 | Best distance = 48794.21205959946\n",
      "Temperature = 2915.6054916171024 | Best distance = 47349.02813532103\n",
      "Temperature = 1166.242196646841 | Best distance = 38006.177270270804\n",
      "Temperature = 466.4968786587364 | Best distance = 37560.724018633795\n",
      "Temperature = 186.59875146349458 | Best distance = 37747.38864843573\n",
      "Temperature = 74.63950058539784 | Best distance = 37747.38864843573\n",
      "Temperature = 29.855800234159137 | Best distance = 36475.19237445628\n",
      "Temperature = 11.942320093663655 | Best distance = 34963.77993823523\n",
      "Temperature = 4.776928037465463 | Best distance = 34963.77993823523\n",
      "Temperature = 1.910771214986185 | Best distance = 34518.49254145772\n",
      "Temperature = 0.7643084859944741 | Best distance = 34518.49254145772\n",
      "Temperature = 0.30572339439778967 | Best distance = 34518.49254145772\n",
      "Temperature = 0.12228935775911587 | Best distance = 34518.49254145772\n",
      "Temperature = 0.04891574310364635 | Best distance = 34518.49254145772\n",
      "Temperature = 0.019566297241458544 | Best distance = 34448.58370040407\n",
      "Final Temperature = 0.007826518896583418 | Final Best distance = 34448.58370040407\n",
      "CPU times: user 13 s, sys: 243 ms, total: 13.2 s\n",
      "Wall time: 13.7 s\n"
     ]
    }
   ],
   "source": [
    "%%time\n",
    "optimize(cities30, 0.4)\n",
    ";"
   ]
  },
  {
   "cell_type": "markdown",
   "metadata": {},
   "source": [
    "### Middle cooling"
   ]
  },
  {
   "cell_type": "code",
   "execution_count": 39,
   "metadata": {},
   "outputs": [
    {
     "name": "stdout",
     "output_type": "stream",
     "text": [
      "Temperature = 51022.6727502692 | Best distance = 62410.275459089375\n",
      "Temperature = 35715.870925188436 | Best distance = 60852.2953282479\n",
      "Temperature = 25001.109647631903 | Best distance = 69763.8256707941\n",
      "Temperature = 17500.776753342332 | Best distance = 63130.280097175426\n",
      "Temperature = 12250.543727339631 | Best distance = 53459.55692259513\n",
      "Temperature = 8575.380609137741 | Best distance = 58390.356814745144\n",
      "Temperature = 6002.766426396418 | Best distance = 56064.931745466085\n",
      "Temperature = 4201.936498477492 | Best distance = 55045.00147994265\n",
      "Temperature = 2941.3555489342443 | Best distance = 55455.64185726484\n",
      "Temperature = 2058.948884253971 | Best distance = 51026.72564189442\n",
      "Temperature = 1441.2642189777796 | Best distance = 48806.48550112957\n",
      "Temperature = 1008.8849532844456 | Best distance = 46458.48061632703\n",
      "Temperature = 706.2194672991119 | Best distance = 45104.737518742964\n",
      "Temperature = 494.3536271093783 | Best distance = 45735.451448099804\n",
      "Temperature = 346.0475389765648 | Best distance = 46645.298764985935\n",
      "Temperature = 242.23327728359533 | Best distance = 44951.767204546406\n",
      "Temperature = 169.5632940985167 | Best distance = 43355.5718923544\n",
      "Temperature = 118.69430586896169 | Best distance = 43355.5718923544\n",
      "Temperature = 83.08601410827318 | Best distance = 42786.42059701005\n",
      "Temperature = 58.16020987579122 | Best distance = 42288.5400816524\n",
      "Temperature = 40.71214691305385 | Best distance = 41482.33953398251\n",
      "Temperature = 28.498502839137693 | Best distance = 38966.6694009261\n",
      "Temperature = 19.948951987396384 | Best distance = 35624.669612648344\n",
      "Temperature = 13.964266391177468 | Best distance = 34493.80345775896\n",
      "Temperature = 9.774986473824226 | Best distance = 34493.80345775896\n",
      "Temperature = 6.842490531676958 | Best distance = 32227.46175193674\n",
      "Temperature = 4.78974337217387 | Best distance = 27888.60188303433\n",
      "Temperature = 3.352820360521709 | Best distance = 27888.60188303433\n",
      "Temperature = 2.346974252365196 | Best distance = 27888.60188303433\n",
      "Temperature = 1.6428819766556373 | Best distance = 27888.60188303433\n",
      "Temperature = 1.150017383658946 | Best distance = 27480.025751976973\n",
      "Temperature = 0.8050121685612621 | Best distance = 27178.474946196817\n",
      "Temperature = 0.5635085179928835 | Best distance = 27005.215316593487\n",
      "Temperature = 0.3944559625950184 | Best distance = 25768.37407095488\n",
      "Temperature = 0.27611917381651285 | Best distance = 25768.37407095488\n",
      "Temperature = 0.19328342167155899 | Best distance = 25657.762676675004\n",
      "Temperature = 0.1352983951700913 | Best distance = 25657.762676675004\n",
      "Temperature = 0.0947088766190639 | Best distance = 25657.762676675004\n",
      "Temperature = 0.06629621363334472 | Best distance = 25657.762676675004\n",
      "Temperature = 0.046407349543341296 | Best distance = 24995.68383411711\n",
      "Temperature = 0.032485144680338904 | Best distance = 24995.68383411711\n",
      "Temperature = 0.022739601276237233 | Best distance = 24995.68383411711\n",
      "Temperature = 0.01591772089336606 | Best distance = 24995.68383411711\n",
      "Temperature = 0.011142404625356242 | Best distance = 24995.68383411711\n",
      "Final Temperature = 0.007799683237749369 | Final Best distance = 24995.68383411711\n",
      "CPU times: user 30.9 s, sys: 416 ms, total: 31.3 s\n",
      "Wall time: 31.5 s\n"
     ]
    }
   ],
   "source": [
    "%%time\n",
    "optimize(cities30, 0.7)\n",
    ";"
   ]
  },
  {
   "cell_type": "markdown",
   "metadata": {},
   "source": [
    "## Visualization"
   ]
  },
  {
   "cell_type": "code",
   "execution_count": 32,
   "metadata": {
    "colab": {
     "base_uri": "https://localhost:8080/",
     "height": 825
    },
    "colab_type": "code",
    "id": "SxYTVFBRdATr",
    "outputId": "9e4aa1b1-f433-4d7d-f5f1-ae7e269914d3"
   },
   "outputs": [
    {
     "data": {
      "image/png": "[encoded data removed]",
      "text/plain": [
       "<Figure size 1008x1008 with 1 Axes>"
      ]
     },
     "metadata": {
      "needs_background": "light"
     },
     "output_type": "display_data"
    }
   ],
   "source": [
    "plt.rcParams[\"figure.figsize\"] = [14, 14]\n",
    "for i in range(1, len(best_path)):\n",
    "    from_coords = cities30.iloc[best_path[i - 1]][['geo_lon', 'geo_lat']].values\n",
    "    to_coords = cities30.iloc[best_path[i]][['geo_lon', 'geo_lat']].values\n",
    "    plt.plot([from_coords[0], to_coords[0]], [from_coords[1], to_coords[1]], '-o')\n",
    "\n",
    "for idx, name in zip(best_path, best_path_named):\n",
    "    lat, lon = cities30[['geo_lon', 'geo_lat']].iloc[idx].values\n",
    "    plt.annotate(name, (lat, lon))\n",
    "\n",
    "plt.title('Final path representation')\n",
    "plt.show()"
   ]
  },
  {
   "cell_type": "code",
   "execution_count": 35,
   "metadata": {
    "colab": {
     "base_uri": "https://localhost:8080/",
     "height": 960
    },
    "colab_type": "code",
    "id": "F5MjPJhUf2CH",
    "outputId": "04b2664f-efe6-4294-dda7-55dcad9f989b"
   },
   "outputs": [],
   "source": [
    "plt.rcParams[\"figure.figsize\"] = [12, 12]\n",
    "fig, ax = plt.subplots()\n",
    "plt.close()\n",
    "\n",
    "ax.set_xlim((25, 150))\n",
    "ax.set_ylim((42, 61))\n",
    "\n",
    "for idx, name in zip(best_path, best_path_named):\n",
    "    lat, lon = cities30[['geo_lon', 'geo_lat']].iloc[idx].values\n",
    "    ax.annotate(name, (lat, lon))\n",
    "\n",
    "lines = []\n",
    "for index in range(len(best_path) - 1):\n",
    "    lobj, = ax.plot([], [], '-o', lw=2)\n",
    "    lines.append(lobj)\n",
    "\n",
    "def init():\n",
    "    for line in lines:\n",
    "        line.set_data([],[])\n",
    "    return lines\n",
    "\n",
    "def animate(idx):\n",
    "    path = path_evolutions[idx]\n",
    "    res = []\n",
    "    for i in range(1, len(path)):\n",
    "        from_coords = cities30.iloc[path[i - 1]][['geo_lon', 'geo_lat']].values\n",
    "        to_coords = cities30.iloc[path[i]][['geo_lon', 'geo_lat']].values\n",
    "        x = [from_coords[0], to_coords[0]]\n",
    "        y = [from_coords[1], to_coords[1]]\n",
    "        lines[i - 1].set_data(x, y)\n",
    "    distance = compute_path_distance(cities30, path)\n",
    "    ax.set_title(f'Best path with distance = {distance}, iter = {idx}')\n",
    "    return lines\n",
    "  \n",
    "\n",
    "anim = animation.FuncAnimation(fig, animate, init_func=init, repeat=False,\n",
    "                               frames=len(path_evolutions), interval=125, \n",
    "                               blit=True) \n",
    "\n",
    "rc('animation', html='jshtml')\n",
    "anim"
   ]
  },
  {
   "cell_type": "markdown",
   "metadata": {},
   "source": [
    "### P.S: Animation was removed  from the upper cell output in order to decrease weight and performance of the notebook. You can run it yourself or find saved version in `images` folder "
   ]
  },
  {
   "cell_type": "code",
   "execution_count": 34,
   "metadata": {
    "colab": {
     "base_uri": "https://localhost:8080/",
     "height": 34
    },
    "colab_type": "code",
    "id": "plrs159KgmS8",
    "outputId": "4139e574-3522-4073-834d-87c048578438"
   },
   "outputs": [
    {
     "name": "stderr",
     "output_type": "stream",
     "text": [
      "MovieWriter imagemagick unavailable. Trying to use pillow instead.\n"
     ]
    }
   ],
   "source": [
    "anim.save('images/algo_animation.gif', writer='imagemagick', fps=5) "
   ]
  }
 ],
 "metadata": {
  "colab": {
   "collapsed_sections": [],
   "name": "PMLDL_assignment1-2.ipynb",
   "provenance": []
  },
  "kernelspec": {
   "display_name": "Python 3",
   "language": "python",
   "name": "python3"
  },
  "language_info": {
   "codemirror_mode": {
    "name": "ipython",
    "version": 3
   },
   "file_extension": ".py",
   "mimetype": "text/x-python",
   "name": "python",
   "nbconvert_exporter": "python",
   "pygments_lexer": "ipython3",
   "version": "3.7.2"
  }
 },
 "nbformat": 4,
 "nbformat_minor": 1
}
